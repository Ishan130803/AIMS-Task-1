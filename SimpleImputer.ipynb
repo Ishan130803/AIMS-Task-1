{
  "nbformat": 4,
  "nbformat_minor": 0,
  "metadata": {
    "colab": {
      "provenance": [],
      "authorship_tag": "ABX9TyO9n+2Ud4jz4RV3uHuqCbbY",
      "include_colab_link": true
    },
    "kernelspec": {
      "name": "python3",
      "display_name": "Python 3"
    },
    "language_info": {
      "name": "python"
    }
  },
  "cells": [
    {
      "cell_type": "markdown",
      "metadata": {
        "id": "view-in-github",
        "colab_type": "text"
      },
      "source": [
        "<a href=\"https://colab.research.google.com/github/Ishan130803/AIMS-Task-1/blob/main/SimpleImputer.ipynb\" target=\"_parent\"><img src=\"https://colab.research.google.com/assets/colab-badge.svg\" alt=\"Open In Colab\"/></a>"
      ]
    },
    {
      "cell_type": "code",
      "source": [],
      "metadata": {
        "id": "tLRCylrAZFIV"
      },
      "execution_count": null,
      "outputs": []
    },
    {
      "cell_type": "code",
      "execution_count": 1,
      "metadata": {
        "id": "Cmnvea3HSogX"
      },
      "outputs": [],
      "source": [
        "import numpy as np\n",
        "import pandas as pd"
      ]
    },
    {
      "cell_type": "code",
      "source": [
        "import numpy as np\n",
        "import pandas as pd\n",
        "\n",
        "class SimpleImputer(object):\n",
        "    def __init__(\n",
        "            self,\n",
        "            strategy,\n",
        "            missing_values,\n",
        "            constant_value = None,\n",
        "    ):\n",
        "\n",
        "        if (strategy not in (\"mean\",\"median\",\"mode\",\"constant\")):\n",
        "            raise ValueError(\"Invalid Strategy for imputation\")\n",
        "        elif strategy == \"constant\" and not isinstance(constant_value,(int,float,str)):\n",
        "            raise ValueError(f\"Invalid imputation strategy: {self.strategy}\")\n",
        "        self.strategy = strategy\n",
        "        self.missing_values = missing_values\n",
        "\n",
        "\n",
        "    def _impute_column(self,data):\n",
        "        \"\"\"\n",
        "        Imputes missing values in a Pandas Series.\n",
        "\n",
        "        Args:\n",
        "            data: A Pandas Series.\n",
        "            strategy: The imputation strategy. Can be \"mean\", \"median\", \"mode\", or a constant value.\n",
        "            missing_values: The value to be considered as missing. Default is np.nan.\n",
        "\n",
        "        Returns:\n",
        "            A Pandas Series with imputed missing values.\n",
        "        \"\"\"\n",
        "\n",
        "        if self.strategy == \"mean\":\n",
        "            impute_value = np.mean(data[data != self.missing_values])\n",
        "        elif self.strategy == \"median\":\n",
        "            impute_value = np.median((data[data != self.missing_values]))\n",
        "        elif self.strategy == \"mode\":\n",
        "            impute_value = data.mode().iloc[0]\n",
        "        elif isinstance(self.strategy, (int, float, str)):\n",
        "            impute_value = self.strategy\n",
        "        else:\n",
        "            raise ValueError(f\"Invalid imputation self.strategy: {self.strategy}\")\n",
        "\n",
        "        return data.fillna(impute_value)\n",
        "\n",
        "    def _impute_array(self,data):\n",
        "        \"\"\"\n",
        "        Imputes missing values in a NumPy array.\n",
        "\n",
        "        Args:\n",
        "            data: A NumPy array.\n",
        "            strategy: The imputation strategy. Can be \"mean\", \"median\", \"mode\", or a constant value.\n",
        "            missing_values: The value to be considered as missing. Default is np.nan.\n",
        "\n",
        "        Returns:\n",
        "            A NumPy array with imputed missing values.\n",
        "        \"\"\"\n",
        "        if len(data.shape != 2):\n",
        "            raise TypeError(\"Invalid Shape of given array\")\n",
        "        elif self.strategy == \"mean\":\n",
        "            impute_value = np.nanmean(data)\n",
        "        elif self.strategy == \"median\":\n",
        "            impute_value = np.nanmedian(data)\n",
        "        elif self.strategy == \"mode\":\n",
        "            impute_value = np.nanmode(data)\n",
        "        elif isinstance(self.strategy, (int, float, str)):\n",
        "            impute_value = self.strategy\n",
        "        else:\n",
        "            raise ValueError(f\"Invalid imputation strategy: {self.strategy}\")\n",
        "\n",
        "        return np.where(np.isnan(data), impute_value, data)\n",
        "\n",
        "    def fit_transform(self, data, columns = []):\n",
        "        \"\"\"\n",
        "        Imputes missing values in a DataFrame or NumPy array.\n",
        "\n",
        "        Args:\n",
        "            data: A Pandas DataFrame or NumPy array.\n",
        "            strategy: The imputation strategy. Can be \"mean\", \"median\", \"mode\", or a constant value.\n",
        "            missing_values: The value to be considered as missing. Default is np.nan.\n",
        "\n",
        "        Returns:\n",
        "            A DataFrame or NumPy array with imputed missing values.\n",
        "        \"\"\"\n",
        "        if isinstance(data, pd.DataFrame):\n",
        "            # Impute data for each column in the DataFrame\n",
        "            for col in columns:\n",
        "                data = _impute_column(data)\n",
        "        elif isinstance(data, np.ndarray)\n",
        "            # Impute entire NumPy array\n",
        "            for col in columns:\n",
        "                data = _impute_array(data[col])\n",
        "\n",
        "        return data"
      ],
      "metadata": {
        "colab": {
          "base_uri": "https://localhost:8080/",
          "height": 140
        },
        "id": "owL3e2aUSt37",
        "outputId": "e4fece38-73ba-4e41-dea3-2685f96a7567"
      },
      "execution_count": 18,
      "outputs": [
        {
          "output_type": "error",
          "ename": "IndentationError",
          "evalue": "ignored",
          "traceback": [
            "\u001b[0;36m  File \u001b[0;32m\"<ipython-input-18-c3c5ac20c1f2>\"\u001b[0;36m, line \u001b[0;32m59\u001b[0m\n\u001b[0;31m    elif self.strategy == \"mean\":\u001b[0m\n\u001b[0m    ^\u001b[0m\n\u001b[0;31mIndentationError\u001b[0m\u001b[0;31m:\u001b[0m expected an indented block after 'if' statement on line 58\n"
          ]
        }
      ]
    },
    {
      "cell_type": "code",
      "source": [
        "a = np.array([1,2,3,5,2])"
      ],
      "metadata": {
        "id": "SC-GysduUrQW"
      },
      "execution_count": 2,
      "outputs": []
    },
    {
      "cell_type": "markdown",
      "source": [],
      "metadata": {
        "id": "wmPoH0-RYVXK"
      }
    },
    {
      "cell_type": "code",
      "source": [
        "b = pd.DataFrame(a)\n",
        "b"
      ],
      "metadata": {
        "id": "PkjtUBaAUybz"
      },
      "execution_count": null,
      "outputs": []
    },
    {
      "cell_type": "code",
      "source": [],
      "metadata": {
        "colab": {
          "base_uri": "https://localhost:8080/",
          "height": 321
        },
        "id": "hU4xYm6wYWGz",
        "outputId": "b9b19641-b587-4a92-c261-f36811a9e678"
      },
      "execution_count": 14,
      "outputs": [
        {
          "output_type": "error",
          "ename": "KeyError",
          "evalue": "ignored",
          "traceback": [
            "\u001b[0;31m---------------------------------------------------------------------------\u001b[0m",
            "\u001b[0;31mKeyError\u001b[0m                                  Traceback (most recent call last)",
            "\u001b[0;32m<ipython-input-14-d3bbcef729fb>\u001b[0m in \u001b[0;36m<cell line: 1>\u001b[0;34m()\u001b[0m\n\u001b[0;32m----> 1\u001b[0;31m \u001b[0mb\u001b[0m\u001b[0;34m[\u001b[0m\u001b[0;34m'0'\u001b[0m\u001b[0;34m]\u001b[0m\u001b[0;34m\u001b[0m\u001b[0;34m\u001b[0m\u001b[0m\n\u001b[0m",
            "\u001b[0;32m/usr/local/lib/python3.10/dist-packages/pandas/core/frame.py\u001b[0m in \u001b[0;36m__getitem__\u001b[0;34m(self, key)\u001b[0m\n\u001b[1;32m   3805\u001b[0m             \u001b[0;32mif\u001b[0m \u001b[0mself\u001b[0m\u001b[0;34m.\u001b[0m\u001b[0mcolumns\u001b[0m\u001b[0;34m.\u001b[0m\u001b[0mnlevels\u001b[0m \u001b[0;34m>\u001b[0m \u001b[0;36m1\u001b[0m\u001b[0;34m:\u001b[0m\u001b[0;34m\u001b[0m\u001b[0;34m\u001b[0m\u001b[0m\n\u001b[1;32m   3806\u001b[0m                 \u001b[0;32mreturn\u001b[0m \u001b[0mself\u001b[0m\u001b[0;34m.\u001b[0m\u001b[0m_getitem_multilevel\u001b[0m\u001b[0;34m(\u001b[0m\u001b[0mkey\u001b[0m\u001b[0;34m)\u001b[0m\u001b[0;34m\u001b[0m\u001b[0;34m\u001b[0m\u001b[0m\n\u001b[0;32m-> 3807\u001b[0;31m             \u001b[0mindexer\u001b[0m \u001b[0;34m=\u001b[0m \u001b[0mself\u001b[0m\u001b[0;34m.\u001b[0m\u001b[0mcolumns\u001b[0m\u001b[0;34m.\u001b[0m\u001b[0mget_loc\u001b[0m\u001b[0;34m(\u001b[0m\u001b[0mkey\u001b[0m\u001b[0;34m)\u001b[0m\u001b[0;34m\u001b[0m\u001b[0;34m\u001b[0m\u001b[0m\n\u001b[0m\u001b[1;32m   3808\u001b[0m             \u001b[0;32mif\u001b[0m \u001b[0mis_integer\u001b[0m\u001b[0;34m(\u001b[0m\u001b[0mindexer\u001b[0m\u001b[0;34m)\u001b[0m\u001b[0;34m:\u001b[0m\u001b[0;34m\u001b[0m\u001b[0;34m\u001b[0m\u001b[0m\n\u001b[1;32m   3809\u001b[0m                 \u001b[0mindexer\u001b[0m \u001b[0;34m=\u001b[0m \u001b[0;34m[\u001b[0m\u001b[0mindexer\u001b[0m\u001b[0;34m]\u001b[0m\u001b[0;34m\u001b[0m\u001b[0;34m\u001b[0m\u001b[0m\n",
            "\u001b[0;32m/usr/local/lib/python3.10/dist-packages/pandas/core/indexes/range.py\u001b[0m in \u001b[0;36mget_loc\u001b[0;34m(self, key, method, tolerance)\u001b[0m\n\u001b[1;32m    393\u001b[0m                     \u001b[0;32mraise\u001b[0m \u001b[0mKeyError\u001b[0m\u001b[0;34m(\u001b[0m\u001b[0mkey\u001b[0m\u001b[0;34m)\u001b[0m \u001b[0;32mfrom\u001b[0m \u001b[0merr\u001b[0m\u001b[0;34m\u001b[0m\u001b[0;34m\u001b[0m\u001b[0m\n\u001b[1;32m    394\u001b[0m             \u001b[0mself\u001b[0m\u001b[0;34m.\u001b[0m\u001b[0m_check_indexing_error\u001b[0m\u001b[0;34m(\u001b[0m\u001b[0mkey\u001b[0m\u001b[0;34m)\u001b[0m\u001b[0;34m\u001b[0m\u001b[0;34m\u001b[0m\u001b[0m\n\u001b[0;32m--> 395\u001b[0;31m             \u001b[0;32mraise\u001b[0m \u001b[0mKeyError\u001b[0m\u001b[0;34m(\u001b[0m\u001b[0mkey\u001b[0m\u001b[0;34m)\u001b[0m\u001b[0;34m\u001b[0m\u001b[0;34m\u001b[0m\u001b[0m\n\u001b[0m\u001b[1;32m    396\u001b[0m         \u001b[0;32mreturn\u001b[0m \u001b[0msuper\u001b[0m\u001b[0;34m(\u001b[0m\u001b[0;34m)\u001b[0m\u001b[0;34m.\u001b[0m\u001b[0mget_loc\u001b[0m\u001b[0;34m(\u001b[0m\u001b[0mkey\u001b[0m\u001b[0;34m,\u001b[0m \u001b[0mmethod\u001b[0m\u001b[0;34m=\u001b[0m\u001b[0mmethod\u001b[0m\u001b[0;34m,\u001b[0m \u001b[0mtolerance\u001b[0m\u001b[0;34m=\u001b[0m\u001b[0mtolerance\u001b[0m\u001b[0;34m)\u001b[0m\u001b[0;34m\u001b[0m\u001b[0;34m\u001b[0m\u001b[0m\n\u001b[1;32m    397\u001b[0m \u001b[0;34m\u001b[0m\u001b[0m\n",
            "\u001b[0;31mKeyError\u001b[0m: '0'"
          ]
        }
      ]
    }
  ]
}