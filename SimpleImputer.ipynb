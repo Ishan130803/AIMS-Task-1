{
  "nbformat": 4,
  "nbformat_minor": 0,
  "metadata": {
    "colab": {
      "provenance": [],
      "authorship_tag": "ABX9TyOSIQl6FySjJKgn3T6kNJ0f",
      "include_colab_link": true
    },
    "kernelspec": {
      "name": "python3",
      "display_name": "Python 3"
    },
    "language_info": {
      "name": "python"
    }
  },
  "cells": [
    {
      "cell_type": "markdown",
      "metadata": {
        "id": "view-in-github",
        "colab_type": "text"
      },
      "source": [
        "<a href=\"https://colab.research.google.com/github/Ishan130803/AIMS-Task-1/blob/main/SimpleImputer.ipynb\" target=\"_parent\"><img src=\"https://colab.research.google.com/assets/colab-badge.svg\" alt=\"Open In Colab\"/></a>"
      ]
    },
    {
      "cell_type": "code",
      "execution_count": 1,
      "metadata": {
        "id": "Cmnvea3HSogX"
      },
      "outputs": [],
      "source": [
        "import numpy as np\n",
        "import pandas as pd"
      ]
    },
    {
      "cell_type": "code",
      "source": [
        "class SimpleImputer(object):\n",
        "    def __init__(\n",
        "            self,\n",
        "            strategy,\n",
        "            missing_values = np.nan,\n",
        "            constant_value = None,\n",
        "    ):\n",
        "\n",
        "        if (strategy not in (\"mean\",\"median\",\"mode\",\"constant\")):\n",
        "            raise ValueError(\"Invalid Strategy for imputation\")\n",
        "        elif strategy == \"constant\" and not isinstance(constant_value,(int,float,str)):\n",
        "            raise ValueError(f\"Invalid imputation strategy: {self.strategy}\")\n",
        "        self.strategy = strategy\n",
        "        self.missing_values = missing_values\n",
        "        self.constant_value = constant_value\n",
        "\n",
        "\n",
        "    def impute_column(self,data):\n",
        "\n",
        "\n",
        "        if self.strategy == \"mean\":\n",
        "            impute_value = np.mean(data[data != self.missing_values])\n",
        "        elif self.strategy == \"median\":\n",
        "            impute_value = np.median((data[data != self.missing_values]))\n",
        "        elif self.strategy == \"mode\":\n",
        "            impute_value = data.mode().iloc[0]\n",
        "        else:\n",
        "            impute_value = self.constant_value\n",
        "\n",
        "        return data.fillna(impute_value)\n",
        "\n",
        "    def impute_array(self,data):\n",
        "\n",
        "\n",
        "        if self.strategy == \"mean\":\n",
        "            impute_value = np.nanmean(data)\n",
        "        elif self.strategy == \"median\":\n",
        "            impute_value = np.nanmedian(data)\n",
        "        elif self.strategy == \"mode\":\n",
        "            impute_value = np.unique(data,equal_nan = True)[0]\n",
        "            if np.isnan(impute_value):\n",
        "                raise ValueError(\"Can't find mode with only NaN values\")\n",
        "        else:\n",
        "            impute_value = self.constant_value\n",
        "\n",
        "        return np.where(np.isnan(data), impute_value, data)\n",
        "\n",
        "    def fit_transform(self, data, columns = []):\n",
        "        if isinstance(data, pd.DataFrame):\n",
        "            # Impute data for each column in the DataFrame\n",
        "            for col in columns:\n",
        "                data = self.impute_column(data)\n",
        "        elif isinstance(data, np.ndarray):\n",
        "            # Impute entire NumPy array\n",
        "            if data.ndim != 2:\n",
        "                raise TypeError(\"Invalid Shape of given array\")\n",
        "            for col in columns:\n",
        "                data[:,col] = self.impute_array(data[:,col])\n",
        "\n",
        "        return data"
      ],
      "metadata": {
        "id": "owL3e2aUSt37"
      },
      "execution_count": 54,
      "outputs": []
    },
    {
      "cell_type": "code",
      "source": [
        "a = np.array([[np.nan,2,3,5,2],\n",
        "              [1,3,4,66,7],\n",
        "              [np.nan,5,6,8,9]])"
      ],
      "metadata": {
        "id": "SC-GysduUrQW"
      },
      "execution_count": 64,
      "outputs": []
    },
    {
      "cell_type": "markdown",
      "source": [],
      "metadata": {
        "id": "wmPoH0-RYVXK"
      }
    }
  ]
}