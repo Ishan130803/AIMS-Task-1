{
  "nbformat": 4,
  "nbformat_minor": 0,
  "metadata": {
    "colab": {
      "provenance": [],
      "authorship_tag": "ABX9TyNwHTL1AqZymjnaf5qkYlEf",
      "include_colab_link": true
    },
    "kernelspec": {
      "name": "python3",
      "display_name": "Python 3"
    },
    "language_info": {
      "name": "python"
    }
  },
  "cells": [
    {
      "cell_type": "markdown",
      "metadata": {
        "id": "view-in-github",
        "colab_type": "text"
      },
      "source": [
        "<a href=\"https://colab.research.google.com/github/Ishan130803/AIMS-Task-1/blob/main/OrdinalEncoder.ipynb\" target=\"_parent\"><img src=\"https://colab.research.google.com/assets/colab-badge.svg\" alt=\"Open In Colab\"/></a>"
      ]
    },
    {
      "cell_type": "code",
      "source": [
        "import numpy as np\n",
        "import pandas as pd\n",
        "from typing import Union"
      ],
      "metadata": {
        "id": "x_bgqRQspPp0"
      },
      "execution_count": 6,
      "outputs": []
    },
    {
      "cell_type": "markdown",
      "source": [
        "# Steps to Encode Ordinally\n",
        "1. take dataframe, the columns you want to encode\n",
        "2. For each column\n",
        "    a) If data is numeric skip\n",
        "    b) if data is categorical\n",
        "        - initialize counter\n",
        "        - for each new category map the new category to counter number\n",
        "        - increment counter by 1\n",
        "    c) map each category using the mapping function\n",
        "    d) convery into numpy array\n",
        "    e) return numpy array\n",
        "3. append the returned numpy array to another numpy array\n",
        "4. take transpose of this array\n",
        "5. return this largeer array."
      ],
      "metadata": {
        "id": "1lnW9sX6xnY_"
      }
    },
    {
      "cell_type": "code",
      "execution_count": 37,
      "metadata": {
        "id": "niEsFIz8lDj3"
      },
      "outputs": [],
      "source": [
        "class OrdinalEncoder:\n",
        "    def columnTransformer(self,column : pd.Series):\n",
        "        ordinal_mapping = {}\n",
        "        counter = 1\n",
        "        for value in column:\n",
        "            if value not in ordinal_mapping:\n",
        "                ordinal_mapping[value] = counter\n",
        "                counter+=1\n",
        "        return column.map(ordinal_mapping).to_numpy()\n",
        "\n",
        "\n",
        "    def fit_transform(self, df, columns):\n",
        "        encoded_table = []\n",
        "        for col in columns:\n",
        "            if (df[col].dtype in ['O']):\n",
        "                encoded_table.append(self.columnTransformer(df[col]))\n",
        "            else:\n",
        "                encoded_table.append(df[col].to_numpy())\n",
        "        return np.array(encoded_table).T\n",
        "\n"
      ]
    },
    {
      "cell_type": "code",
      "source": [
        "encobj = OrdinalEncoder()\n",
        "a = {\n",
        "    'name' : ['a','b','c','d','a','b'],\n",
        "    'age'  : [1,23,4,5,6,7]\n",
        "}\n",
        "\n",
        "df = pd.DataFrame(a)\n",
        "\n",
        "b = encobj.fit_transform(df,['name','age'])\n",
        "b\n"
      ],
      "metadata": {
        "colab": {
          "base_uri": "https://localhost:8080/"
        },
        "id": "x_epP4xuood8",
        "outputId": "ca62f3d4-b5c1-4bb1-ef42-2a40393897aa"
      },
      "execution_count": 43,
      "outputs": [
        {
          "output_type": "execute_result",
          "data": {
            "text/plain": [
              "array([[ 1,  1],\n",
              "       [ 2, 23],\n",
              "       [ 3,  4],\n",
              "       [ 4,  5],\n",
              "       [ 1,  6],\n",
              "       [ 2,  7]])"
            ]
          },
          "metadata": {},
          "execution_count": 43
        }
      ]
    }
  ]
}