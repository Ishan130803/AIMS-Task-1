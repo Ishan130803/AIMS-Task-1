{
  "nbformat": 4,
  "nbformat_minor": 0,
  "metadata": {
    "colab": {
      "provenance": [],
      "authorship_tag": "ABX9TyPZ3nJYFujIfmu0zF6c6W7V",
      "include_colab_link": true
    },
    "kernelspec": {
      "name": "python3",
      "display_name": "Python 3"
    },
    "language_info": {
      "name": "python"
    }
  },
  "cells": [
    {
      "cell_type": "markdown",
      "metadata": {
        "id": "view-in-github",
        "colab_type": "text"
      },
      "source": [
        "<a href=\"https://colab.research.google.com/github/Ishan130803/AIMS-Task-1/blob/main/OneHotEncoder.ipynb\" target=\"_parent\"><img src=\"https://colab.research.google.com/assets/colab-badge.svg\" alt=\"Open In Colab\"/></a>"
      ]
    },
    {
      "cell_type": "code",
      "source": [
        "import numpy as np\n",
        "import pandas as pd\n",
        "from typing import Union"
      ],
      "metadata": {
        "id": "x_bgqRQspPp0"
      },
      "execution_count": 6,
      "outputs": []
    },
    {
      "cell_type": "markdown",
      "source": [
        "# One Hot Encoding\n",
        "1. Take the dataframe and the columns to be one hot encoded as the input\n",
        "2. For each column series (with categorical values) in data frame do the following things:\n",
        "    - create a dictionary of unique categories with each unique category mapping to an empty list\n",
        "    - Now, iterate through series and iterate through dict_keys where dict_keys = series item change to 1 and rest to 0\n",
        "\n",
        "3. Convert this series to numpy array\n",
        "4. return this 2D numpy array"
      ],
      "metadata": {
        "id": "1lnW9sX6xnY_"
      }
    },
    {
      "cell_type": "code",
      "execution_count": 54,
      "metadata": {
        "id": "niEsFIz8lDj3"
      },
      "outputs": [],
      "source": [
        "class OneHotEncoder:\n",
        "    def columnTransformer(self,column : pd.Series):\n",
        "        if column.dtype!='O':\n",
        "            return np.expand_dims(column.to_numpy(),axis = 0)\n",
        "\n",
        "        ordinal_mapping = {}\n",
        "        for value in column:\n",
        "            if value not in ordinal_mapping:\n",
        "                ordinal_mapping[value] = []\n",
        "\n",
        "        category_list = ordinal_mapping.keys()\n",
        "        for value in column:\n",
        "            for key in category_list:\n",
        "                if value == key:\n",
        "                    ordinal_mapping[key].append(1)\n",
        "                else:\n",
        "                    ordinal_mapping[key].append(0)\n",
        "\n",
        "\n",
        "        return np.array([ordinal_mapping[col] for col in category_list])\n",
        "\n",
        "    def fit_transform(self, df, columns):\n",
        "        return np.concatenate([self.columnTransformer(df[col]) for col in columns],axis = 0)\n",
        "\n",
        "        # for col in columns:\n",
        "        #     if (df[col].dtype in ['O']):\n",
        "        #         self.columnTransformer(df[col])\n",
        "        #     else:\n",
        "        #         np.array([df[col].to_numpy()])\n",
        "        # return np.array(encoded_table)\n",
        "\n"
      ]
    },
    {
      "cell_type": "code",
      "source": [
        "encobj = OneHotEncoder()\n",
        "a = {\n",
        "    'name' : ['a','b','c','d','a','b'],\n",
        "    'age'  : [1,23,4,5,6,7]\n",
        "}\n",
        "\n",
        "df = pd.DataFrame(a)\n",
        "\n",
        "b = encobj.fit_transform(df,['name','age'])\n",
        "b\n"
      ],
      "metadata": {
        "colab": {
          "base_uri": "https://localhost:8080/"
        },
        "id": "x_epP4xuood8",
        "outputId": "83134577-aaf4-410f-ffe6-0f537c47686a"
      },
      "execution_count": 56,
      "outputs": [
        {
          "output_type": "execute_result",
          "data": {
            "text/plain": [
              "array([[ 1,  0,  0,  0,  1,  0],\n",
              "       [ 0,  1,  0,  0,  0,  1],\n",
              "       [ 0,  0,  1,  0,  0,  0],\n",
              "       [ 0,  0,  0,  1,  0,  0],\n",
              "       [ 1, 23,  4,  5,  6,  7]])"
            ]
          },
          "metadata": {},
          "execution_count": 56
        }
      ]
    }
  ]
}